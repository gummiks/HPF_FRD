{
 "cells": [
  {
   "cell_type": "code",
   "execution_count": 1,
   "metadata": {},
   "outputs": [
    {
     "name": "stdout",
     "output_type": "stream",
     "text": [
      "C:\\Users\\PSM-0\\Desktop\\PYTHON\\HPF_FRD\n"
     ]
    },
    {
     "name": "stderr",
     "output_type": "stream",
     "text": [
      "C:\\Users\\PSM-0\\Anaconda2\\lib\\site-packages\\fli-dev-py2.7.egg\\FLI\\lib.py:403: Warning: function 'FLISetTDI' not found\n",
      "  warnings.warn(Warning(err))\n"
     ]
    }
   ],
   "source": [
    "from __future__ import print_function\n",
    "import iris\n",
    "import controlstage\n",
    "import controlfli\n",
    "reload(controlfli)\n",
    "import numpy as np\n",
    "import matplotlib.pylab as plt\n",
    "%matplotlib wx\n",
    "import sys\n",
    "sys.path.append(\"C:\\\\Users\\\\PSM-0\\\\Desktop\\\\PYTHON\\\\GIT\")\n",
    "import seaborn as sns\n",
    "sns.set_style(\"white\")"
   ]
  },
  {
   "cell_type": "code",
   "execution_count": 2,
   "metadata": {},
   "outputs": [],
   "source": [
    "import numpy as np\n",
    "import pandas as pd\n",
    "from PyAPT import APTMotor\n",
    "import time\n",
    "import os\n",
    "\n",
    "class ControlStage(object):\n",
    "    \n",
    "    def __init__(self):\n",
    "        self.M = APTMotor(83829712,HWTYPE=31,verbose=True)\n",
    "        self.df = pd.read_csv('sequence.csv')\n",
    "        self.x = self.df.x_out_fiber_dist.values\n",
    "        \n",
    "    def go_home(self):\n",
    "        self.M.go_home()\n",
    "    \n",
    "    def go_to_32(self):\n",
    "        # Move absolute\n",
    "        self.M.mAbs(32.)\n",
    "        \n",
    "    def go_to(self,value):\n",
    "        self.M.mAbs(value)\n",
    "    \n",
    "    def exit(self):\n",
    "        self.M.cleanUpAPT()\n",
    "\n",
    "    def run_sequence(self):\n",
    "        print(\"Running sequence\")\n",
    "        for i, x in enumerate(self.x):\n",
    "            self.go_to(x)\n",
    "            print(\"##########################################\")\n",
    "            print(i,\"Now at\",x,\"mm\")\n",
    "            input_val = raw_input(\"Press Enter to continue. Press q to stop\")\n",
    "            if input_val == \"q\":\n",
    "                break\n",
    "                \n",
    "class FRDSequencer(object):\n",
    "    \"\"\"\n",
    "    An object to run an automated FRD sequence\n",
    "    \"\"\"\n",
    "    CSV_SETUP_SUBDIR = \"..\\\\ANALYSIS\\\\CSV_SETUP\\\\\"\n",
    "    \n",
    "    def __init__(self,csv_setup_file='setup_f01.csv',\n",
    "                      savefolder=\"C:\\\\Users\\\\PSM-0\\\\Desktop\\\\HPF_FRD\\\\20170801_testing_sequence\\\\f01\"):\n",
    "        print(\"Connecting to devices...\",end=\"\")\n",
    "        self.S = ControlStage()                  # Stage\n",
    "        print(\"Stage...\",end=\"\")\n",
    "        self.C = controlfli.ControlFLI(savefolder=savefolder)         # Camera\n",
    "        print(\"Camera...\",end=\"\")\n",
    "        self.I = iris.ControlIris(device='COM8') # Iris\n",
    "        print(\"Stage...\",end=\"\")\n",
    "        self.I.connect()\n",
    "        print(\"Done\")\n",
    "        print(\"Reading sequence file...\",end=\"\")\n",
    "        self.df = pd.read_csv(savefolder+os.sep+self.CSV_SETUP_SUBDIR+csv_setup_file)\n",
    "        self.x = self.df['x_out_fiber_dist'].values\n",
    "        self.exptime = self.df[\"exptime\"].values\n",
    "        self.filenames = self.df['filename'].values\n",
    "        self.iris_diam = self.df['iris_diam_perc'].values.astype(int)\n",
    "        print(\"Done\")\n",
    "        self.savefolder = savefolder\n",
    "        \n",
    "        \n",
    "    def init(self):\n",
    "        self.S.go_home()\n",
    "        self.I.set_percent(18)\n",
    "        print(\"Initialized\")\n",
    "        \n",
    "    def run_sequence(self,overwrite=False):\n",
    "        print(\"##########################################\")\n",
    "        print(\"##########################################\")\n",
    "        print(\"Running sequence\")\n",
    "        \n",
    "        print(\"Savefolder:\",self.savefolder)\n",
    "        print(\"##########################################\")\n",
    "        #self.fig, self.ax = plt.subplots()\n",
    "        self.fig, self.ax = plt.subplots(ncols=2,nrows=1,figsize=(18,10))\n",
    "        \n",
    "        print(\"Setting the percent as 18 in the beginning\")\n",
    "        #self.I.set_percent(18)\n",
    "        \n",
    "        for i in range(len(self.df)):\n",
    "            print(\"##########################################\")\n",
    "            print(\"PERCENT=:\",self.iris_diam[i])\n",
    "            self.I.set_percent(self.iris_diam[i])\n",
    "            self.S.go_to(self.x[i])\n",
    "            print(i,\"STAGE AT=\",self.x[i],\"mm\")\n",
    "            time.sleep(0.1)\n",
    "            [ax.clear() for ax in self.ax]\n",
    "            #self.C.expose(self.exptime[i]*1.2,frametype='normal',plot=True,ax=self.ax)\n",
    "            # TO CHANGE EXPOSURE TIME: HERE ####################################################################\n",
    "            self.C.expose(self.exptime[i]*0.6,frametype='normal',plot=False)\n",
    "            self.frdimg = FRDImg(self.C.data,self.C.header)\n",
    "            #frdimg.plot2_panel(figax=(fig,ax),plot_folder=PLOT_FOLDER,filename=str(i))\n",
    "            self.frdimg.plot2_panel(figax=(self.fig,self.ax),plot_folder=self.savefolder,filename=self.filenames[i])\n",
    "            titlestr = \"EXP=\"+str(self.exptime[i]) + \" PERCENT=\"+str(self.iris_diam[i]) + \" STAGE=\"+str(self.x[i])\n",
    "            self.fig.suptitle(titlestr)\n",
    "            self.C.header['IRISDIAM'] = self.iris_diam[i]\n",
    "            self.C.header['STAGELOC'] = self.x[i]\n",
    "            self.C.save(self.filenames[i],overwrite=overwrite)\n",
    "            plt.pause(0.5)\n",
    "            #input_val = raw_input(\"Press Enter to continue. Press q to stop\")\n",
    "            #if input_val == \"q\":\n",
    "            #    break\n",
    "        \n",
    "    def close(self):\n",
    "        self.I.ser.close() # Have to close the serial to the iris (otherwise hangs)"
   ]
  },
  {
   "cell_type": "code",
   "execution_count": 3,
   "metadata": {
    "collapsed": true
   },
   "outputs": [],
   "source": [
    "from __future__ import print_function\n",
    "import FLI\n",
    "import astropy.io.fits\n",
    "import astropy\n",
    "import datetime\n",
    "import os\n",
    "import matplotlib.pyplot as plt\n",
    "import numpy as np\n",
    "\n",
    "class ControlFLI(object):\n",
    "    \n",
    "    def __init__(self,savefolder=\".\"):\n",
    "        self.C = FLI.USBCamera(\"flipro0\",\"proline\")\n",
    "        self.header = astropy.io.fits.Header()\n",
    "        self.header['SERIAL'] = self.C.get_info()['serial_number']\n",
    "        self.savefolder=savefolder\n",
    "        \n",
    "    def expose(self,exptime,frametype=\"normal\",plot=True,ax=None):\n",
    "        \"\"\"\n",
    "        exptime in s\n",
    "        \"\"\"\n",
    "        print(\"Exposing\",exptime,\"s...\",end=\"\")\n",
    "        self.header.set(\"EXPTIME\",value=exptime,comment=\"s\")\n",
    "        self.header['IMAGETYP']= frametype\n",
    "        self.header.set(\"DATE-OBS\",value=str(datetime.datetime.utcnow()),comment=\"start of exposure\")\n",
    "        self.C.set_exposure(int(exptime*1000),frametype=frametype)\n",
    "        self.data = self.C.take_photo()\n",
    "        self.header.set(\"CCD-TEMP\",value=self.C.get_temperature(),comment=\"CCD temp in C\")\n",
    "        self.header[\"DATE-END\"] = str(datetime.datetime.utcnow())\n",
    "        self.header['CAM-MODE'] = self.C.get_camera_mode_string()\n",
    "        self.header['BASETEMP'] = self.C.read_base_temperature()\n",
    "        self.header['XBINNING'] = self.C.hbin\n",
    "        self.header['YBINNING'] = self.C.vbin\n",
    "        if plot==True:\n",
    "            if ax == None:\n",
    "                self.fig, self.ax = plt.subplots()\n",
    "            else:\n",
    "                self.ax = ax\n",
    "            self.ax.imshow(self.data)\n",
    "            print(\"MAX COUNTS:\",np.max(self.data))\n",
    "            plt.pause(0.1)\n",
    "        print('Done')"
   ]
  },
  {
   "cell_type": "code",
   "execution_count": 4,
   "metadata": {
    "collapsed": true
   },
   "outputs": [],
   "source": [
    "import os\n",
    "from astropy.modeling import models, fitting\n",
    "import photutils\n",
    "import glob\n",
    "from astropylib import butter, gklib, gkfit, fitsimg, phothelp, gkastro\n",
    "\n",
    "class FRDImg(object):\n",
    "    \"\"\"\n",
    "    A class to analyze FRDImages\n",
    "    \"\"\"\n",
    "    \n",
    "    def __init__(self,data,header):\n",
    "        self.fimg       = fitsimg.FitsImage(data=data,header=header)\n",
    "        self.fimg.cropcenter(1024,1056)\n",
    "        print(\"Data shape\",self.fimg.data.shape)\n",
    "        \n",
    "    def plot2_panel(self,fwzm_z=20,figax=None,plot_folder=\"\",filename=\"\"):\n",
    "        if figax==None:\n",
    "            fig, ax = plt.subplots(ncols=2,nrows=1,figsize=(10,6))\n",
    "        else:\n",
    "            fig, ax = figax\n",
    "        ax_img         = ax.flat[0]\n",
    "        ax_cut         = ax.flat[1]\n",
    "        ax_img.clear()\n",
    "        ax_cut.clear()\n",
    "        print(\"Subtracting,\",self.fimg.data.min())\n",
    "        self.fimg.data -= self.fimg.data.min()\n",
    "        x,y = self.fimg.get_centroid(plot_lines=True,ax=ax_img)\n",
    "        self.fimg.ax.set_title(\"XCEN=\"+gklib.num2str(x)+\" YCEN=\"+gklib.num2str(y),fontsize=24)\n",
    "        try:\n",
    "            print(\"Cut plot,max=\",self.fimg.data.max())\n",
    "            cut_x, self.fwhm_x = self.fimg.get_centroid_line_cut(line=\"X\",return_FWHM=True,plot=True,ax=ax_cut,use_butter_filter=True,butter_cutoff_freq=0.03,fwzm_z=fwzm_z)\n",
    "            cut_y, self.fwhm_y = self.fimg.get_centroid_line_cut(line=\"Y\",return_FWHM=True,plot=True,ax=ax_cut,use_butter_filter=True,butter_cutoff_freq=0.03,fwzm_z=fwzm_z)\n",
    "            ax_cut.set_ylim(0,64000.)\n",
    "            ax_cut.plot(butter.low_pass_butter(cut_x,cutoff_freq=0.03))\n",
    "            ax_cut.plot(butter.low_pass_butter(cut_y,cutoff_freq=0.03))\n",
    "            _mean = (self.fwhm_x+self.fwhm_y)/2.\n",
    "            ax_cut.set_title(\"Radius=\"+gklib.num2str(_mean/2.),fontsize=24)\n",
    "        except:\n",
    "            print(\"Error!,skipping cut plot\")\n",
    "        if plot_folder!=\"\":\n",
    "            fig.savefig(plot_folder + filename+\".png\")\n",
    "            print(\"Saved file\",plot_folder + filename+\".png\")\n",
    "        \n",
    "    def run(self,\n",
    "            plot_suffix,\n",
    "            plot_folder,\n",
    "            get_rad_at_EE = 0.90,\n",
    "            MAXRAD_FACTOR = 0.7,\n",
    "            fwzm_z=20):\n",
    "        \"\"\"\n",
    "        Run the analysis\n",
    "        \n",
    "        INPUT:\n",
    "            plot_suffix = \"f01\"\n",
    "            plot_folder = \"results/\"\n",
    "            get_rad_at_EE = 0.90\n",
    "            FACTOR = 0.7\n",
    "            fwzm_z=20\n",
    "\n",
    "        OUTPUT:\n",
    "            Saves files to folders  \n",
    "        \"\"\"\n",
    "        gkastro.make_dir(plot_folder)\n",
    "        fig, ax = plt.subplots(ncols=3,nrows=2,figsize=(20,15))\n",
    "        \n",
    "        ax_img         = ax.flat[0]\n",
    "        ax_img_bkg     = ax.flat[1]\n",
    "        ax_img_bkg_sub = ax.flat[2]\n",
    "        ax_cut         = ax.flat[3]\n",
    "        ax_ee          = ax.flat[4]\n",
    "        ax_img_bkg_sub2= ax.flat[5]\n",
    "\n",
    "        # -------------\n",
    "        # Plot #1: Normal image\n",
    "        x,y = self.fimg.get_centroid(plot_lines=True,ax=ax_img)\n",
    "        self.fimg.ax.set_title(\"Bias + Dark Subtracted (Hist stretch)\")\n",
    "        #cbar_ax = fig.add_axes([0.38, 0.59, 0.015, 0.3],label=\"Counts\")\n",
    "        #fig.colorbar(self.fimg.im, cax=cbar_ax)\n",
    "        \n",
    "        # -------------\n",
    "        # Plot #2: Background estimation\n",
    "        x,y = self.fimg.get_centroid()\n",
    "        print(x,y)\n",
    "        #CBS = phothelp.CircularBackgroundSubractor(self.fimg.data,x=x,y=y,r=400)\n",
    "        #data_back_sub = CBS.subtract_background(plot_background=True,ax=ax_img_bkg)\n",
    "        #self.subtracted_value = CBS.subtracted_value\n",
    "        \n",
    "        # -------------\n",
    "        # Plot #3: Background subtracted image\n",
    "        #self.fimg.data = data_back_sub\n",
    "        #self.fimg.plot(ax=ax_img_bkg_sub,colorbar=False,title=\"Bias + Dark + Background subtracted (linear stretch)\",stretch=\"linear\")\n",
    "        # add colorbar\n",
    "        #cbar_ax = fig.add_axes([0.38, 0.09, 0.015, 0.3],label=\"Counts\")\n",
    "        #fig.colorbar(self.fimg.im, cax=cbar_ax)\n",
    "        # Get centroid again after taking out the background\n",
    "        # x,y = self.fimg.get_centroid()        \n",
    "        \n",
    "        \n",
    "        # -------------\n",
    "        # Plot #4: Cuts\n",
    "        print(\"Subtracting:\",self.fimg.data.min())\n",
    "        self.fimg.data -= self.fimg.data.min()\n",
    "        cut_x, self.fwhm_x = self.fimg.get_centroid_line_cut(line=\"X\",return_FWHM=True,plot=True,ax=ax_cut,use_butter_filter=True,butter_cutoff_freq=0.03,fwzm_z=fwzm_z)\n",
    "        cut_y, self.fwhm_y = self.fimg.get_centroid_line_cut(line=\"Y\",return_FWHM=True,plot=True,ax=ax_cut,use_butter_filter=True,butter_cutoff_freq=0.03,fwzm_z=fwzm_z)\n",
    "        \n",
    "        ax_cut.plot(butter.low_pass_butter(cut_x,cutoff_freq=0.03))\n",
    "        ax_cut.plot(butter.low_pass_butter(cut_y,cutoff_freq=0.03))\n",
    "        ax_cut.set_ylim(0,64000.)\n",
    "\n",
    "        # -------------\n",
    "        # Plot #4: Encircled energy plot\n",
    "        \n",
    "        self.max_radii_for_EE = ((self.fwhm_x + self.fwhm_y)/2.)*MAXRAD_FACTOR\n",
    "        radii = np.arange(1,self.max_radii_for_EE)\n",
    "        df, self.r_ee = phothelp.get_encircled_energy_and_rad_at_EE(self.fimg.data,\n",
    "                                                               self.fimg.xcenter,\n",
    "                                                               self.fimg.ycenter,\n",
    "                                                               radii,\n",
    "                                                               plot=True,\n",
    "                                                               ax=ax_ee,\n",
    "                                                               get_rad_at_EE=get_rad_at_EE)\n",
    "        ax_ee.set_xlim(0,500)\n",
    "        ax_ee.set_xlabel(\"Radii (pixels)\")\n",
    "        \n",
    "        # Overplot aperture in figure $ with EE\n",
    "        aper = photutils.CircularAperture((x,y),r=self.r_ee)\n",
    "        aper.plot(ax=ax_img_bkg_sub,color=\"green\")\n",
    "        ax_img_bkg_sub.annotate(\"EE\"+str(100*get_rad_at_EE)+\"%\",xy=(x,y+self.r_ee),color=\"white\",fontsize=8)\n",
    "        # overplot max aperture \n",
    "        aper = photutils.CircularAperture((x,y),r=self.max_radii_for_EE)\n",
    "        aper.plot(ax=ax_img_bkg_sub,color=\"red\")\n",
    "        ax_img_bkg_sub.annotate(\"EE100% @ r = \"+str(MAXRAD_FACTOR*2)+\" HWHM\",xy=(x,y+self.max_radii_for_EE),color=\"white\",fontsize=8)\n",
    "        \n",
    "        # Hist plot\n",
    "        self.fimg.plot(ax=ax_img_bkg_sub2,colorbar=False,title=\"Bias + Dark + Background subtracted (Hist stretch)\",stretch=\"hist\")\n",
    "        aper = photutils.CircularAperture((x,y),r=self.r_ee)\n",
    "        aper.plot(ax=ax_img_bkg_sub2,color=\"green\")\n",
    "        ax_img_bkg_sub2.annotate(\"EE\"+str(100*get_rad_at_EE)+\"%\",xy=(x,y+self.r_ee),color=\"white\",fontsize=8)\n",
    "        # overplot max aperture \n",
    "        aper = photutils.CircularAperture((x,y),r=self.max_radii_for_EE)\n",
    "        aper.plot(ax=ax_img_bkg_sub2,color=\"red\")\n",
    "        ax_img_bkg_sub2.annotate(\"EE100% @ r = \"+str(MAXRAD_FACTOR*2)+\" HWHM\",xy=(x,y+self.max_radii_for_EE),color=\"white\",fontsize=8)\n",
    "\n",
    "        fig.tight_layout()\n",
    "        fig.subplots_adjust(top=0.9)\n",
    "        fig.suptitle(\"FRD Overview Plot, file: \",fontsize=20)\n",
    "        #fig.savefig(plot_folder + self.basename+\"_\"+plot_suffix+\".png\")\n",
    "        #print(\"Saved file:\",plot_folder + self.basename+\"_\"+plot_suffix+\".png\")\n",
    "        #df.to_csv(plot_folder + self.basename+\"_\"+plot_suffix+\".csv\")\n",
    "        #print(\"Saved file:\",plot_folder + self.basename+\"_\"+plot_suffix+\".csv\")\n",
    "        \n",
    "    \n",
    "def get_EE_from_rad_in_pix(df,radius_in_pix):\n",
    "    return df[df[\"radii\"] > radius_in_pix][\"EE\"].values[0]\n",
    "\n",
    "def add_y_in_input(df_config):\n",
    "    df_config[\"y_in_input\"] = (df_config[\"f_ratio_out\"]/df_config[\"f_ratio_in\"])*df_config[\"y_out_fiber_dist\"]\n",
    "    return df_config\n",
    "\n",
    "def resample_df_mean(df):\n",
    "    chunks = gkastro.chunker(df,4)\n",
    "    dff = pd.DataFrame()\n",
    "    for chunk in chunks:\n",
    "        dff = pd.concat([dff,pd.DataFrame(chunk[[\"f_ratio_in\",\"f_ratio_out\",\"EE_in_input_cone\"]].median(skipna=True)).T],ignore_index=True)\n",
    "    return dff"
   ]
  },
  {
   "cell_type": "markdown",
   "metadata": {},
   "source": [
    "\n",
    "# ^^ Run everything above this ^^"
   ]
  },
  {
   "cell_type": "markdown",
   "metadata": {},
   "source": [
    "# Main thing to run"
   ]
  },
  {
   "cell_type": "code",
   "execution_count": 12,
   "metadata": {
    "scrolled": false
   },
   "outputs": [
    {
     "name": "stdout",
     "output_type": "stream",
     "text": [
      "Connecting to devices...Serial is 83829712\n",
      "initializeHardwareDevice serial c_long(83829712)\n",
      "initializeHardwareDevice connection SUCESS\n",
      "Stage...Camera...Stage...Connection established\n",
      "Done\n",
      "Reading sequence file...Done\n"
     ]
    }
   ],
   "source": [
    "#FRD = FRDSequencer(savefolder='C:\\\\Users\\\\PSM-0\\\\Desktop\\\\HPF_FRD\\\\20170801_test_puck_autocollimated_nohene_50micron\\\\f02')\n",
    "FRD = FRDSequencer(csv_setup_file=\"setup_f01.csv\",\n",
    "        savefolder='C://Users//PSM-0//Desktop//HPF_FRD/20170914_octagonal_ferrule_5x_setA_bare/f01/')"
   ]
  },
  {
   "cell_type": "code",
   "execution_count": 14,
   "metadata": {
    "scrolled": true
   },
   "outputs": [
    {
     "name": "stdout",
     "output_type": "stream",
     "text": [
      "Going home\n",
      "go_home SUCESS\n",
      "Initialized\n"
     ]
    }
   ],
   "source": [
    "FRD.init()"
   ]
  },
  {
   "cell_type": "code",
   "execution_count": 15,
   "metadata": {},
   "outputs": [
    {
     "name": "stdout",
     "output_type": "stream",
     "text": [
      "mAbs  32.0 c_float(32.0)\n",
      "mAbs SUCESS\n"
     ]
    }
   ],
   "source": [
    "FRD.S.go_to_32()"
   ]
  },
  {
   "cell_type": "code",
   "execution_count": 16,
   "metadata": {},
   "outputs": [
    {
     "name": "stdout",
     "output_type": "stream",
     "text": [
      "mAbs  29 c_float(29.0)\n",
      "mAbs SUCESS\n"
     ]
    }
   ],
   "source": [
    "FRD.S.go_to(29)"
   ]
  },
  {
   "cell_type": "code",
   "execution_count": 9,
   "metadata": {
    "collapsed": true
   },
   "outputs": [],
   "source": [
    "FRD.I.set_percent(2)"
   ]
  },
  {
   "cell_type": "code",
   "execution_count": 10,
   "metadata": {},
   "outputs": [],
   "source": [
    "FRD.I.set_percent(18)"
   ]
  },
  {
   "cell_type": "code",
   "execution_count": 11,
   "metadata": {
    "collapsed": true
   },
   "outputs": [],
   "source": [
    "FRD.close()"
   ]
  },
  {
   "cell_type": "code",
   "execution_count": 34,
   "metadata": {
    "collapsed": true
   },
   "outputs": [],
   "source": [
    "FRD.I.set_percent(11)"
   ]
  },
  {
   "cell_type": "code",
   "execution_count": null,
   "metadata": {
    "scrolled": true
   },
   "outputs": [
    {
     "name": "stdout",
     "output_type": "stream",
     "text": [
      "##########################################\n",
      "##########################################\n",
      "Running sequence\n",
      "Savefolder: C://Users//PSM-0//Desktop//HPF_FRD/20170914_octagonal_ferrule_5x_setA_bare/f01/\n",
      "##########################################\n",
      "Setting the percent as 18 in the beginning\n",
      "##########################################\n",
      "PERCENT=: 5\n",
      "mAbs  32.0 c_float(32.0)\n",
      "mAbs SUCESS\n",
      "0 STAGE AT= 32.0 mm\n",
      "Exposing 0.6 s...Done\n",
      "Data shape (1027L, 1024L)\n",
      "Subtracting, 2188.0\n",
      "Cut plot,max= 25596.0\n",
      "Saved file C://Users//PSM-0//Desktop//HPF_FRD/20170914_octagonal_ferrule_5x_setA_bare/f01/f_psm_09_d_01.fits.png\n",
      "Saved to C://Users//PSM-0//Desktop//HPF_FRD/20170914_octagonal_ferrule_5x_setA_bare/f01/\\f_psm_09_d_01.fits\n",
      "##########################################\n",
      "PERCENT=: 5\n",
      "mAbs  31.0 c_float(31.0)\n",
      "mAbs SUCESS\n",
      "1 STAGE AT= 31.0 mm\n",
      "Exposing 0.6 s...Done\n",
      "Data shape (1027L, 1024L)\n",
      "Subtracting, 2193.0\n",
      "Cut plot,max= 23782.0\n",
      "Saved file C://Users//PSM-0//Desktop//HPF_FRD/20170914_octagonal_ferrule_5x_setA_bare/f01/f_psm_09_d_02.fits.png\n",
      "Saved to C://Users//PSM-0//Desktop//HPF_FRD/20170914_octagonal_ferrule_5x_setA_bare/f01/\\f_psm_09_d_02.fits\n",
      "##########################################\n",
      "PERCENT=: 5\n",
      "mAbs  30.0 c_float(30.0)\n",
      "mAbs SUCESS\n",
      "2 STAGE AT= 30.0 mm\n",
      "Exposing 0.6 s...Done\n",
      "Data shape (1027L, 1024L)\n",
      "Subtracting, 2192.0\n",
      "Cut plot,max= 21544.0\n",
      "Saved file C://Users//PSM-0//Desktop//HPF_FRD/20170914_octagonal_ferrule_5x_setA_bare/f01/f_psm_09_d_03.fits.png\n",
      "Saved to C://Users//PSM-0//Desktop//HPF_FRD/20170914_octagonal_ferrule_5x_setA_bare/f01/\\f_psm_09_d_03.fits\n",
      "##########################################\n",
      "PERCENT=: 5\n",
      "mAbs  29.0 c_float(29.0)\n",
      "mAbs SUCESS\n",
      "3 STAGE AT= 29.0 mm\n",
      "Exposing 0.6 s...Done\n",
      "Data shape (1027L, 1024L)\n",
      "Subtracting, 2192.0\n",
      "Cut plot,max= 19625.0\n",
      "Saved file C://Users//PSM-0//Desktop//HPF_FRD/20170914_octagonal_ferrule_5x_setA_bare/f01/f_psm_09_d_04.fits.png\n",
      "Saved to C://Users//PSM-0//Desktop//HPF_FRD/20170914_octagonal_ferrule_5x_setA_bare/f01/\\f_psm_09_d_04.fits\n",
      "##########################################\n",
      "PERCENT=: 4\n",
      "mAbs  32.0 c_float(32.0)\n",
      "mAbs SUCESS\n",
      "4 STAGE AT= 32.0 mm\n",
      "Exposing 0.6 s...Done\n",
      "Data shape (1027L, 1024L)\n",
      "Subtracting, 2193.0\n",
      "Cut plot,max= 26220.0\n",
      "Saved file C://Users//PSM-0//Desktop//HPF_FRD/20170914_octagonal_ferrule_5x_setA_bare/f01/f_psm_10_d_01.fits.png\n",
      "Saved to C://Users//PSM-0//Desktop//HPF_FRD/20170914_octagonal_ferrule_5x_setA_bare/f01/\\f_psm_10_d_01.fits\n",
      "##########################################\n",
      "PERCENT=: 4\n",
      "mAbs  31.0 c_float(31.0)\n",
      "mAbs SUCESS\n",
      "5 STAGE AT= 31.0 mm\n",
      "Exposing 0.6 s...Done\n",
      "Data shape (1027L, 1024L)\n",
      "Subtracting, 2184.0\n",
      "Cut plot,max= 23817.0\n",
      "Saved file C://Users//PSM-0//Desktop//HPF_FRD/20170914_octagonal_ferrule_5x_setA_bare/f01/f_psm_10_d_02.fits.png\n",
      "Saved to C://Users//PSM-0//Desktop//HPF_FRD/20170914_octagonal_ferrule_5x_setA_bare/f01/\\f_psm_10_d_02.fits\n",
      "##########################################\n",
      "PERCENT=: 4\n",
      "mAbs  30.0 c_float(30.0)\n",
      "mAbs SUCESS\n",
      "6 STAGE AT= 30.0 mm\n",
      "Exposing 0.6 s...Done\n",
      "Data shape (1027L, 1024L)\n",
      "Subtracting, 2181.0\n",
      "Cut plot,max= 21332.0\n",
      "Saved file C://Users//PSM-0//Desktop//HPF_FRD/20170914_octagonal_ferrule_5x_setA_bare/f01/f_psm_10_d_03.fits.png\n",
      "Saved to C://Users//PSM-0//Desktop//HPF_FRD/20170914_octagonal_ferrule_5x_setA_bare/f01/\\f_psm_10_d_03.fits\n",
      "##########################################\n",
      "PERCENT=: 4\n",
      "mAbs  29.0 c_float(29.0)\n",
      "mAbs SUCESS\n",
      "7 STAGE AT= 29.0 mm\n",
      "Exposing 0.6 s...Done\n",
      "Data shape (1027L, 1024L)\n",
      "Subtracting, 2190.0\n",
      "Cut plot,max= 19527.0\n",
      "Saved file C://Users//PSM-0//Desktop//HPF_FRD/20170914_octagonal_ferrule_5x_setA_bare/f01/f_psm_10_d_04.fits.png\n",
      "Saved to C://Users//PSM-0//Desktop//HPF_FRD/20170914_octagonal_ferrule_5x_setA_bare/f01/\\f_psm_10_d_04.fits\n",
      "##########################################\n",
      "PERCENT=: 3\n",
      "mAbs  32.0 c_float(32.0)\n",
      "mAbs SUCESS\n",
      "8 STAGE AT= 32.0 mm\n",
      "Exposing 0.66 s...Done\n",
      "Data shape (1027L, 1024L)\n",
      "Subtracting, 2182.0\n",
      "Cut plot,max= 28299.0\n",
      "Saved file C://Users//PSM-0//Desktop//HPF_FRD/20170914_octagonal_ferrule_5x_setA_bare/f01/f_psm_11_d_01.fits.png\n",
      "Saved to C://Users//PSM-0//Desktop//HPF_FRD/20170914_octagonal_ferrule_5x_setA_bare/f01/\\f_psm_11_d_01.fits\n",
      "##########################################\n",
      "PERCENT=: 3\n",
      "mAbs  31.0 c_float(31.0)\n",
      "mAbs SUCESS\n",
      "9 STAGE AT= 31.0 mm\n",
      "Exposing 0.66 s...Done\n",
      "Data shape (1027L, 1024L)\n",
      "Subtracting, 2193.0\n",
      "Cut plot,max= 26404.0\n",
      "Saved file C://Users//PSM-0//Desktop//HPF_FRD/20170914_octagonal_ferrule_5x_setA_bare/f01/f_psm_11_d_02.fits.png\n",
      "Saved to C://Users//PSM-0//Desktop//HPF_FRD/20170914_octagonal_ferrule_5x_setA_bare/f01/\\f_psm_11_d_02.fits\n",
      "##########################################\n",
      "PERCENT=: 3\n",
      "mAbs  30.0 c_float(30.0)\n",
      "mAbs SUCESS\n",
      "10 STAGE AT= 30.0 mm\n",
      "Exposing 0.66 s...Done\n",
      "Data shape (1027L, 1024L)\n",
      "Subtracting, 2194.0\n",
      "Cut plot,max= 23420.0\n",
      "Saved file C://Users//PSM-0//Desktop//HPF_FRD/20170914_octagonal_ferrule_5x_setA_bare/f01/f_psm_11_d_03.fits.png\n",
      "Saved to C://Users//PSM-0//Desktop//HPF_FRD/20170914_octagonal_ferrule_5x_setA_bare/f01/\\f_psm_11_d_03.fits\n",
      "##########################################\n",
      "PERCENT=: 3\n",
      "mAbs  29.0 c_float(29.0)\n",
      "mAbs SUCESS\n",
      "11 STAGE AT= 29.0 mm\n",
      "Exposing 0.66 s...Done\n",
      "Data shape (1027L, 1024L)\n",
      "Subtracting, 2195.0\n",
      "Cut plot,max= 21550.0\n"
     ]
    }
   ],
   "source": [
    "####### \n",
    "# Run full sequence\n",
    "# 1. Is PSF centered?\n",
    "# 2. Is PSF as close to shutter as possible at 32?\n",
    "# 3. Is it set to save in the right directory?\n",
    "# 4. Is light contamination minimized ? Screen off, etc. \n",
    "# 5. Is the box on?\n",
    "\n",
    "FRD.run_sequence(overwrite=False)"
   ]
  },
  {
   "cell_type": "code",
   "execution_count": null,
   "metadata": {
    "collapsed": true
   },
   "outputs": [],
   "source": []
  },
  {
   "cell_type": "code",
   "execution_count": null,
   "metadata": {
    "collapsed": true
   },
   "outputs": [],
   "source": []
  },
  {
   "cell_type": "code",
   "execution_count": null,
   "metadata": {
    "collapsed": true
   },
   "outputs": [],
   "source": []
  },
  {
   "cell_type": "markdown",
   "metadata": {
    "collapsed": true
   },
   "source": [
    "# Extra testing"
   ]
  },
  {
   "cell_type": "code",
   "execution_count": null,
   "metadata": {
    "collapsed": true
   },
   "outputs": [],
   "source": [
    "#PLOT_FOLDER=\"C://Users//PSM-0//Desktop//HPF_FRD/20170901_test_puck_D_200micron_hene/injection_images/\"\n",
    "#fig, ax = plt.subplots(ncols=2,nrows=1,figsize=(18,10))\n",
    "#EXPTIME = 0.6\n",
    "#for i in range(10):\n",
    "#   C = ControlFLI()\n",
    "#    C.expose(EXPTIME,plot=False)\n",
    "#    frdimg = FRDImg(C.data,C.header)\n",
    "#    #frdimg.plot2_panel(figax=(fig,ax),plot_folder=PLOT_FOLDER,filename=str(i))\n",
    "#   frdimg.plot2_panel(figax=(fig,ax),plot_folder=PLOT_FOLDER,filename=\"exp\"+str(i)+\"exp\"+str(EXPTIME))\n",
    "#    plt.pause(1)\n",
    "#\n",
    "#C = ControlFLI()\n",
    "#C.expose(0.6,plot=False)\n",
    "#frdimg = FRDImg(C.data,C.header)\n",
    "#frdimg.run(get_rad_at_EE=0.96,MAXRAD_FACTOR=0.54,fwzm_z=20.,plot_suffix=\"f01\",plot_folder=PLOT_FOLDER)\n",
    "#fimg = astropylib.fitsimg.FitsImage(data=C.data,header=C.header)\n",
    "#fimg.plot()"
   ]
  }
 ],
 "metadata": {
  "kernelspec": {
   "display_name": "Python 2",
   "language": "python",
   "name": "python2"
  },
  "language_info": {
   "codemirror_mode": {
    "name": "ipython",
    "version": 2
   },
   "file_extension": ".py",
   "mimetype": "text/x-python",
   "name": "python",
   "nbconvert_exporter": "python",
   "pygments_lexer": "ipython2",
   "version": "2.7.13"
  }
 },
 "nbformat": 4,
 "nbformat_minor": 2
}
