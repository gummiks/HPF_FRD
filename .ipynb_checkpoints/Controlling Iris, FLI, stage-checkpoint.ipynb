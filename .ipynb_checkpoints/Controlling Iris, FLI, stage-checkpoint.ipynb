{
 "cells": [
  {
   "cell_type": "code",
   "execution_count": 1,
   "metadata": {},
   "outputs": [
    {
     "name": "stdout",
     "output_type": "stream",
     "text": [
      "C:\\Users\\PSM-0\\Desktop\\PYTHON\\HPF_FRD\n"
     ]
    },
    {
     "name": "stderr",
     "output_type": "stream",
     "text": [
      "C:\\Users\\PSM-0\\Anaconda2\\lib\\site-packages\\fli-dev-py2.7.egg\\FLI\\lib.py:403: Warning: function 'FLISetTDI' not found\n",
      "  warnings.warn(Warning(err))\n"
     ]
    }
   ],
   "source": [
    "from __future__ import print_function\n",
    "import iris\n",
    "import controlstage\n",
    "import controlfli\n",
    "reload(controlfli)\n",
    "import numpy as np\n",
    "import matplotlib.pylab as plt\n",
    "%matplotlib wx"
   ]
  },
  {
   "cell_type": "code",
   "execution_count": 2,
   "metadata": {
    "collapsed": true
   },
   "outputs": [],
   "source": [
    "import numpy as np\n",
    "import pandas as pd\n",
    "from PyAPT import APTMotor\n",
    "import time\n",
    "import os\n",
    "\n",
    "class ControlStage(object):\n",
    "    \n",
    "    def __init__(self):\n",
    "        self.M = APTMotor(83829712,HWTYPE=31,verbose=True)\n",
    "        self.df = pd.read_csv('sequence.csv')\n",
    "        self.x = self.df.x_out_fiber_dist.values\n",
    "        \n",
    "    def go_home(self):\n",
    "        self.M.go_home()\n",
    "    \n",
    "    def go_to_32(self):\n",
    "        # Move absolute\n",
    "        self.M.mAbs(32.)\n",
    "        \n",
    "    def go_to(self,value):\n",
    "        self.M.mAbs(value)\n",
    "    \n",
    "    def exit(self):\n",
    "        self.M.cleanUpAPT()\n",
    "\n",
    "    def run_sequence(self):\n",
    "        print(\"Running sequence\")\n",
    "        for i, x in enumerate(self.x):\n",
    "            self.go_to(x)\n",
    "            print(\"##########################################\")\n",
    "            print(i,\"Now at\",x,\"mm\")\n",
    "            input_val = raw_input(\"Press Enter to continue. Press q to stop\")\n",
    "            if input_val == \"q\":\n",
    "                break\n",
    "                \n",
    "class FRDSequencer(object):\n",
    "    \"\"\"\n",
    "    An object to run an automated FRD sequence\n",
    "    \"\"\"\n",
    "    CSV_SETUP_SUBDIR = \"..\\\\ANALYSIS\\\\CSV_SETUP\\\\\"\n",
    "    \n",
    "    def __init__(self,csv_setup_file='setup_f01.csv',\n",
    "                      savefolder=\"C:\\\\Users\\\\PSM-0\\\\Desktop\\\\HPF_FRD\\\\20170801_testing_sequence\\\\f01\"):\n",
    "        print(\"Connecting to devices...\",end=\"\")\n",
    "        self.S = ControlStage()                  # Stage\n",
    "        print(\"Stage...\",end=\"\")\n",
    "        self.C = controlfli.ControlFLI(savefolder=savefolder)         # Camera\n",
    "        print(\"Camera...\",end=\"\")\n",
    "        self.I = iris.ControlIris(device='COM8') # Iris\n",
    "        print(\"Stage...\",end=\"\")\n",
    "        self.I.connect()\n",
    "        print(\"Done\")\n",
    "        print(\"Reading sequence file...\",end=\"\")\n",
    "        self.df = pd.read_csv(savefolder+os.sep+self.CSV_SETUP_SUBDIR+csv_setup_file)\n",
    "        self.x = self.df['x_out_fiber_dist'].values\n",
    "        self.exptime = self.df[\"exptime\"].values\n",
    "        self.filenames = self.df['filename'].values\n",
    "        self.iris_diam = self.df['iris_diam_perc'].values.astype(int)\n",
    "        print(\"Done\")\n",
    "        self.savefolder = savefolder\n",
    "        self.fig, self.ax = plt.subplots()\n",
    "        \n",
    "    def init(self):\n",
    "        self.S.go_home()\n",
    "        self.I.set_percent(18)\n",
    "        print(\"Initialized\")\n",
    "        \n",
    "    def run_sequence(self,overwrite=False):\n",
    "        print(\"##########################################\")\n",
    "        print(\"##########################################\")\n",
    "        print(\"Running sequence\")\n",
    "        print(\"Savefolder:\",self.savefolder)\n",
    "        print(\"##########################################\")\n",
    "        \n",
    "        for i in range(len(self.df)):\n",
    "            print(\"##########################################\")\n",
    "            print(\"PERCENT=:\",self.iris_diam[i])\n",
    "            self.I.set_percent(self.iris_diam[i])\n",
    "            self.S.go_to(self.x[i])\n",
    "            print(i,\"STAGE AT=\",self.x[i],\"mm\")\n",
    "            time.sleep(1)\n",
    "            self.ax.clear()\n",
    "            self.C.expose(self.exptime[i]*0.6,frametype='normal',plot=True,ax=self.ax)\n",
    "            titlestr = \"EXP=\"+str(self.exptime[i]) + \" PERCENT=\"+str(self.iris_diam[i]) + \" STAGE=\"+str(self.x[i])\n",
    "            self.ax.set_title(titlestr)\n",
    "            self.C.header['IRISDIAM'] = self.iris_diam[i]\n",
    "            self.C.header['STAGELOC'] = self.x[i]\n",
    "            self.C.save(self.filenames[i],overwrite=overwrite)\n",
    "            #input_val = raw_input(\"Press Enter to continue. Press q to stop\")\n",
    "            #if input_val == \"q\":\n",
    "            #    break\n",
    "        \n",
    "    def close(self):\n",
    "        self.I.ser.close() # Have to close the serial to the iris (otherwise hangs)"
   ]
  },
  {
   "cell_type": "code",
   "execution_count": 22,
   "metadata": {
    "scrolled": false
   },
   "outputs": [
    {
     "name": "stdout",
     "output_type": "stream",
     "text": [
      "Connecting to devices...Serial is 83829712\n",
      "initializeHardwareDevice serial c_long(83829712)\n",
      "initializeHardwareDevice connection SUCESS\n",
      "Stage...Camera...Stage...Connection established\n",
      "Done\n",
      "Reading sequence file...Done\n"
     ]
    }
   ],
   "source": [
    "#FRD = FRDSequencer(savefolder='C:\\\\Users\\\\PSM-0\\\\Desktop\\\\HPF_FRD\\\\20170801_test_puck_autocollimated_nohene_50micron\\\\f02')\n",
    "FRD = FRDSequencer(csv_setup_file=\"setup_f01.csv\",\n",
    "                   savefolder='C://Users//PSM-0//Desktop//HPF_FRD/20170807_test_puck_A_200micron_hene/f03/')"
   ]
  },
  {
   "cell_type": "code",
   "execution_count": 23,
   "metadata": {},
   "outputs": [
    {
     "name": "stdout",
     "output_type": "stream",
     "text": [
      "mAbs  32.0 c_float(32.0)\n",
      "mAbs SUCESS\n"
     ]
    }
   ],
   "source": [
    "FRD.S.go_to_32()"
   ]
  },
  {
   "cell_type": "code",
   "execution_count": 6,
   "metadata": {},
   "outputs": [
    {
     "name": "stdout",
     "output_type": "stream",
     "text": [
      "mAbs  29 c_float(29.0)\n",
      "mAbs SUCESS\n"
     ]
    }
   ],
   "source": [
    "FRD.S.go_to(29)"
   ]
  },
  {
   "cell_type": "code",
   "execution_count": 25,
   "metadata": {
    "collapsed": true
   },
   "outputs": [],
   "source": [
    "FRD.I.set_percent(0)"
   ]
  },
  {
   "cell_type": "code",
   "execution_count": 27,
   "metadata": {
    "collapsed": true
   },
   "outputs": [],
   "source": [
    "FRD.I.set_percent(11)"
   ]
  },
  {
   "cell_type": "code",
   "execution_count": 4,
   "metadata": {
    "scrolled": true
   },
   "outputs": [
    {
     "name": "stdout",
     "output_type": "stream",
     "text": [
      "Going home\n",
      "go_home SUCESS\n",
      "Initialized\n"
     ]
    }
   ],
   "source": [
    "FRD.init()"
   ]
  },
  {
   "cell_type": "code",
   "execution_count": 21,
   "metadata": {},
   "outputs": [],
   "source": [
    "FRD.close()"
   ]
  },
  {
   "cell_type": "code",
   "execution_count": 21,
   "metadata": {},
   "outputs": [
    {
     "data": {
      "text/plain": [
       "3.6"
      ]
     },
     "execution_count": 21,
     "metadata": {},
     "output_type": "execute_result"
    }
   ],
   "source": [
    "0.4*(18)/(2)"
   ]
  },
  {
   "cell_type": "code",
   "execution_count": 20,
   "metadata": {
    "collapsed": true
   },
   "outputs": [],
   "source": [
    "FRD.I.set_percent(18)"
   ]
  },
  {
   "cell_type": "code",
   "execution_count": 24,
   "metadata": {
    "scrolled": false
   },
   "outputs": [
    {
     "name": "stdout",
     "output_type": "stream",
     "text": [
      "##########################################\n",
      "##########################################\n",
      "Running sequence\n",
      "Savefolder: C://Users//PSM-0//Desktop//HPF_FRD/20170807_test_puck_A_200micron_hene/f03/\n",
      "##########################################\n",
      "##########################################\n",
      "PERCENT=: 18\n",
      "mAbs  32.0 c_float(32.0)\n",
      "mAbs SUCESS\n",
      "0 STAGE AT= 32.0 mm\n",
      "Exposing 0.6 s...MAX COUNTS: 30174\n",
      "Done\n",
      "Saved to C://Users//PSM-0//Desktop//HPF_FRD/20170807_test_puck_A_200micron_hene/f03/\\f_psm_01_d_01.fits\n",
      "##########################################\n",
      "PERCENT=: 18\n",
      "mAbs  31.0 c_float(31.0)\n",
      "mAbs SUCESS\n",
      "1 STAGE AT= 31.0 mm\n",
      "Exposing 0.6 s...MAX COUNTS: 27802\n",
      "Done\n",
      "Saved to C://Users//PSM-0//Desktop//HPF_FRD/20170807_test_puck_A_200micron_hene/f03/\\f_psm_01_d_02.fits\n",
      "##########################################\n",
      "PERCENT=: 18\n",
      "mAbs  30.0 c_float(30.0)\n",
      "mAbs SUCESS\n",
      "2 STAGE AT= 30.0 mm\n",
      "Exposing 0.6 s...MAX COUNTS: 25701\n",
      "Done\n",
      "Saved to C://Users//PSM-0//Desktop//HPF_FRD/20170807_test_puck_A_200micron_hene/f03/\\f_psm_01_d_03.fits\n",
      "##########################################\n",
      "PERCENT=: 18\n",
      "mAbs  29.0 c_float(29.0)\n",
      "mAbs SUCESS\n",
      "3 STAGE AT= 29.0 mm\n",
      "Exposing 0.6 s...MAX COUNTS: 23958\n",
      "Done\n",
      "Saved to C://Users//PSM-0//Desktop//HPF_FRD/20170807_test_puck_A_200micron_hene/f03/\\f_psm_01_d_04.fits\n",
      "##########################################\n",
      "PERCENT=: 16\n",
      "mAbs  32.0 c_float(32.0)\n",
      "mAbs SUCESS\n",
      "4 STAGE AT= 32.0 mm\n",
      "Exposing 0.6 s...MAX COUNTS: 30410\n",
      "Done\n",
      "Saved to C://Users//PSM-0//Desktop//HPF_FRD/20170807_test_puck_A_200micron_hene/f03/\\f_psm_02_d_01.fits\n",
      "##########################################\n",
      "PERCENT=: 16\n",
      "mAbs  31.0 c_float(31.0)\n",
      "mAbs SUCESS\n",
      "5 STAGE AT= 31.0 mm\n",
      "Exposing 0.6 s...MAX COUNTS: 27781\n",
      "Done\n",
      "Saved to C://Users//PSM-0//Desktop//HPF_FRD/20170807_test_puck_A_200micron_hene/f03/\\f_psm_02_d_02.fits\n",
      "##########################################\n",
      "PERCENT=: 16\n",
      "mAbs  30.0 c_float(30.0)\n",
      "mAbs SUCESS\n",
      "6 STAGE AT= 30.0 mm\n",
      "Exposing 0.6 s...MAX COUNTS: 25925\n",
      "Done\n",
      "Saved to C://Users//PSM-0//Desktop//HPF_FRD/20170807_test_puck_A_200micron_hene/f03/\\f_psm_02_d_03.fits\n",
      "##########################################\n",
      "PERCENT=: 16\n",
      "mAbs  29.0 c_float(29.0)\n",
      "mAbs SUCESS\n",
      "7 STAGE AT= 29.0 mm\n",
      "Exposing 0.6 s...MAX COUNTS: 23893\n",
      "Done\n",
      "Saved to C://Users//PSM-0//Desktop//HPF_FRD/20170807_test_puck_A_200micron_hene/f03/\\f_psm_02_d_04.fits\n",
      "##########################################\n",
      "PERCENT=: 14\n",
      "mAbs  32.0 c_float(32.0)\n",
      "mAbs SUCESS\n",
      "8 STAGE AT= 32.0 mm\n",
      "Exposing 0.6 s...MAX COUNTS: 30133\n",
      "Done\n",
      "Saved to C://Users//PSM-0//Desktop//HPF_FRD/20170807_test_puck_A_200micron_hene/f03/\\f_psm_03_d_01.fits\n",
      "##########################################\n",
      "PERCENT=: 14\n",
      "mAbs  31.0 c_float(31.0)\n",
      "mAbs SUCESS\n",
      "9 STAGE AT= 31.0 mm\n",
      "Exposing 0.6 s...MAX COUNTS: 28042\n",
      "Done\n",
      "Saved to C://Users//PSM-0//Desktop//HPF_FRD/20170807_test_puck_A_200micron_hene/f03/\\f_psm_03_d_02.fits\n",
      "##########################################\n",
      "PERCENT=: 14\n",
      "mAbs  30.0 c_float(30.0)\n",
      "mAbs SUCESS\n",
      "10 STAGE AT= 30.0 mm\n",
      "Exposing 0.6 s...MAX COUNTS: 25781\n",
      "Done\n",
      "Saved to C://Users//PSM-0//Desktop//HPF_FRD/20170807_test_puck_A_200micron_hene/f03/\\f_psm_03_d_03.fits\n",
      "##########################################\n",
      "PERCENT=: 14\n",
      "mAbs  29.0 c_float(29.0)\n",
      "mAbs SUCESS\n",
      "11 STAGE AT= 29.0 mm\n",
      "Exposing 0.6 s...MAX COUNTS: 23824\n",
      "Done\n",
      "Saved to C://Users//PSM-0//Desktop//HPF_FRD/20170807_test_puck_A_200micron_hene/f03/\\f_psm_03_d_04.fits\n",
      "##########################################\n",
      "PERCENT=: 12\n",
      "mAbs  32.0 c_float(32.0)\n",
      "mAbs SUCESS\n",
      "12 STAGE AT= 32.0 mm\n",
      "Exposing 0.6 s...MAX COUNTS: 30026\n",
      "Done\n",
      "Saved to C://Users//PSM-0//Desktop//HPF_FRD/20170807_test_puck_A_200micron_hene/f03/\\f_psm_04_d_01.fits\n",
      "##########################################\n",
      "PERCENT=: 12\n",
      "mAbs  31.0 c_float(31.0)\n",
      "mAbs SUCESS\n",
      "13 STAGE AT= 31.0 mm\n",
      "Exposing 0.6 s...MAX COUNTS: 27756\n",
      "Done\n",
      "Saved to C://Users//PSM-0//Desktop//HPF_FRD/20170807_test_puck_A_200micron_hene/f03/\\f_psm_04_d_02.fits\n",
      "##########################################\n",
      "PERCENT=: 12\n",
      "mAbs  30.0 c_float(30.0)\n",
      "mAbs SUCESS\n",
      "14 STAGE AT= 30.0 mm\n",
      "Exposing 0.6 s...MAX COUNTS: 25391\n",
      "Done\n",
      "Saved to C://Users//PSM-0//Desktop//HPF_FRD/20170807_test_puck_A_200micron_hene/f03/\\f_psm_04_d_03.fits\n",
      "##########################################\n",
      "PERCENT=: 12\n",
      "mAbs  29.0 c_float(29.0)\n",
      "mAbs SUCESS\n",
      "15 STAGE AT= 29.0 mm\n",
      "Exposing 0.6 s...MAX COUNTS: 23729\n",
      "Done\n",
      "Saved to C://Users//PSM-0//Desktop//HPF_FRD/20170807_test_puck_A_200micron_hene/f03/\\f_psm_04_d_04.fits\n",
      "##########################################\n",
      "PERCENT=: 11\n",
      "mAbs  32.0 c_float(32.0)\n",
      "mAbs SUCESS\n",
      "16 STAGE AT= 32.0 mm\n",
      "Exposing 0.6 s...MAX COUNTS: 30024\n",
      "Done\n",
      "Saved to C://Users//PSM-0//Desktop//HPF_FRD/20170807_test_puck_A_200micron_hene/f03/\\f_psm_05_d_01.fits\n",
      "##########################################\n",
      "PERCENT=: 11\n",
      "mAbs  31.0 c_float(31.0)\n",
      "mAbs SUCESS\n",
      "17 STAGE AT= 31.0 mm\n",
      "Exposing 0.6 s...MAX COUNTS: 27796\n",
      "Done\n",
      "Saved to C://Users//PSM-0//Desktop//HPF_FRD/20170807_test_puck_A_200micron_hene/f03/\\f_psm_05_d_02.fits\n",
      "##########################################\n",
      "PERCENT=: 11\n",
      "mAbs  30.0 c_float(30.0)\n",
      "mAbs SUCESS\n",
      "18 STAGE AT= 30.0 mm\n",
      "Exposing 0.6 s...MAX COUNTS: 25710\n",
      "Done\n",
      "Saved to C://Users//PSM-0//Desktop//HPF_FRD/20170807_test_puck_A_200micron_hene/f03/\\f_psm_05_d_03.fits\n",
      "##########################################\n",
      "PERCENT=: 11\n",
      "mAbs  29.0 c_float(29.0)\n",
      "mAbs SUCESS\n",
      "19 STAGE AT= 29.0 mm\n",
      "Exposing 0.6 s...MAX COUNTS: 23650\n",
      "Done\n",
      "Saved to C://Users//PSM-0//Desktop//HPF_FRD/20170807_test_puck_A_200micron_hene/f03/\\f_psm_05_d_04.fits\n",
      "##########################################\n",
      "PERCENT=: 10\n",
      "mAbs  32.0 c_float(32.0)\n",
      "mAbs SUCESS\n",
      "20 STAGE AT= 32.0 mm\n",
      "Exposing 0.6 s...MAX COUNTS: 29978\n",
      "Done\n",
      "Saved to C://Users//PSM-0//Desktop//HPF_FRD/20170807_test_puck_A_200micron_hene/f03/\\f_psm_06_d_01.fits\n",
      "##########################################\n",
      "PERCENT=: 10\n",
      "mAbs  31.0 c_float(31.0)\n",
      "mAbs SUCESS\n",
      "21 STAGE AT= 31.0 mm\n",
      "Exposing 0.6 s...MAX COUNTS: 27492\n",
      "Done\n",
      "Saved to C://Users//PSM-0//Desktop//HPF_FRD/20170807_test_puck_A_200micron_hene/f03/\\f_psm_06_d_02.fits\n",
      "##########################################\n",
      "PERCENT=: 10\n",
      "mAbs  30.0 c_float(30.0)\n",
      "mAbs SUCESS\n",
      "22 STAGE AT= 30.0 mm\n",
      "Exposing 0.6 s...MAX COUNTS: 25464\n",
      "Done\n",
      "Saved to C://Users//PSM-0//Desktop//HPF_FRD/20170807_test_puck_A_200micron_hene/f03/\\f_psm_06_d_03.fits\n",
      "##########################################\n",
      "PERCENT=: 10\n",
      "mAbs  29.0 c_float(29.0)\n",
      "mAbs SUCESS\n",
      "23 STAGE AT= 29.0 mm\n",
      "Exposing 0.6 s...MAX COUNTS: 23681\n",
      "Done\n",
      "Saved to C://Users//PSM-0//Desktop//HPF_FRD/20170807_test_puck_A_200micron_hene/f03/\\f_psm_06_d_04.fits\n",
      "##########################################\n",
      "PERCENT=: 9\n",
      "mAbs  32.0 c_float(32.0)\n",
      "mAbs SUCESS\n",
      "24 STAGE AT= 32.0 mm\n",
      "Exposing 0.72 s...MAX COUNTS: 35089\n",
      "Done\n",
      "Saved to C://Users//PSM-0//Desktop//HPF_FRD/20170807_test_puck_A_200micron_hene/f03/\\f_psm_07_d_01.fits\n",
      "##########################################\n",
      "PERCENT=: 9\n",
      "mAbs  31.0 c_float(31.0)\n",
      "mAbs SUCESS\n",
      "25 STAGE AT= 31.0 mm\n",
      "Exposing 0.9 s...MAX COUNTS: 39223\n",
      "Done\n",
      "Saved to C://Users//PSM-0//Desktop//HPF_FRD/20170807_test_puck_A_200micron_hene/f03/\\f_psm_07_d_02.fits\n",
      "##########################################\n",
      "PERCENT=: 9\n",
      "mAbs  30.0 c_float(30.0)\n",
      "mAbs SUCESS\n",
      "26 STAGE AT= 30.0 mm\n",
      "Exposing 0.9 s...MAX COUNTS: 36225\n",
      "Done\n",
      "Saved to C://Users//PSM-0//Desktop//HPF_FRD/20170807_test_puck_A_200micron_hene/f03/\\f_psm_07_d_03.fits\n",
      "##########################################\n",
      "PERCENT=: 9\n",
      "mAbs  29.0 c_float(29.0)\n",
      "mAbs SUCESS\n",
      "27 STAGE AT= 29.0 mm\n",
      "Exposing 0.9 s...MAX COUNTS: 33404\n",
      "Done\n",
      "Saved to C://Users//PSM-0//Desktop//HPF_FRD/20170807_test_puck_A_200micron_hene/f03/\\f_psm_07_d_04.fits\n",
      "##########################################\n",
      "PERCENT=: 7\n",
      "mAbs  32.0 c_float(32.0)\n",
      "mAbs SUCESS\n",
      "28 STAGE AT= 32.0 mm\n",
      "Exposing 1.08 s...MAX COUNTS: 49164\n",
      "Done\n",
      "Saved to C://Users//PSM-0//Desktop//HPF_FRD/20170807_test_puck_A_200micron_hene/f03/\\f_psm_08_d_01.fits\n",
      "##########################################\n",
      "PERCENT=: 7\n",
      "mAbs  31.0 c_float(31.0)\n",
      "mAbs SUCESS\n",
      "29 STAGE AT= 31.0 mm\n",
      "Exposing 1.08 s...MAX COUNTS: 44712\n",
      "Done\n",
      "Saved to C://Users//PSM-0//Desktop//HPF_FRD/20170807_test_puck_A_200micron_hene/f03/\\f_psm_08_d_02.fits\n",
      "##########################################\n",
      "PERCENT=: 7\n",
      "mAbs  30.0 c_float(30.0)\n",
      "mAbs SUCESS\n",
      "30 STAGE AT= 30.0 mm\n",
      "Exposing 1.08 s...MAX COUNTS: 41237\n",
      "Done\n",
      "Saved to C://Users//PSM-0//Desktop//HPF_FRD/20170807_test_puck_A_200micron_hene/f03/\\f_psm_08_d_03.fits\n",
      "##########################################\n",
      "PERCENT=: 7\n",
      "mAbs  29.0 c_float(29.0)\n"
     ]
    },
    {
     "name": "stdout",
     "output_type": "stream",
     "text": [
      "mAbs SUCESS\n",
      "31 STAGE AT= 29.0 mm\n",
      "Exposing 1.2 s...MAX COUNTS: 42012\n",
      "Done\n",
      "Saved to C://Users//PSM-0//Desktop//HPF_FRD/20170807_test_puck_A_200micron_hene/f03/\\f_psm_08_d_04.fits\n",
      "##########################################\n",
      "PERCENT=: 5\n",
      "mAbs  32.0 c_float(32.0)\n",
      "mAbs SUCESS\n",
      "32 STAGE AT= 32.0 mm\n",
      "Exposing 1.08 s...MAX COUNTS: 44075\n",
      "Done\n",
      "Saved to C://Users//PSM-0//Desktop//HPF_FRD/20170807_test_puck_A_200micron_hene/f03/\\f_psm_09_d_01.fits\n",
      "##########################################\n",
      "PERCENT=: 5\n",
      "mAbs  31.0 c_float(31.0)\n",
      "mAbs SUCESS\n",
      "33 STAGE AT= 31.0 mm\n",
      "Exposing 1.2 s...MAX COUNTS: 44370\n",
      "Done\n",
      "Saved to C://Users//PSM-0//Desktop//HPF_FRD/20170807_test_puck_A_200micron_hene/f03/\\f_psm_09_d_02.fits\n",
      "##########################################\n",
      "PERCENT=: 5\n",
      "mAbs  30.0 c_float(30.0)\n",
      "mAbs SUCESS\n",
      "34 STAGE AT= 30.0 mm\n",
      "Exposing 1.2 s...MAX COUNTS: 41117\n",
      "Done\n",
      "Saved to C://Users//PSM-0//Desktop//HPF_FRD/20170807_test_puck_A_200micron_hene/f03/\\f_psm_09_d_03.fits\n",
      "##########################################\n",
      "PERCENT=: 5\n",
      "mAbs  29.0 c_float(29.0)\n",
      "mAbs SUCESS\n",
      "35 STAGE AT= 29.0 mm\n",
      "Exposing 1.2 s...MAX COUNTS: 37877\n",
      "Done\n",
      "Saved to C://Users//PSM-0//Desktop//HPF_FRD/20170807_test_puck_A_200micron_hene/f03/\\f_psm_09_d_04.fits\n",
      "##########################################\n",
      "PERCENT=: 4\n",
      "mAbs  32.0 c_float(32.0)\n",
      "mAbs SUCESS\n",
      "36 STAGE AT= 32.0 mm\n",
      "Exposing 1.2 s...MAX COUNTS: 44050\n",
      "Done\n",
      "Saved to C://Users//PSM-0//Desktop//HPF_FRD/20170807_test_puck_A_200micron_hene/f03/\\f_psm_10_d_01.fits\n",
      "##########################################\n",
      "PERCENT=: 4\n",
      "mAbs  31.0 c_float(31.0)\n",
      "mAbs SUCESS\n",
      "37 STAGE AT= 31.0 mm\n",
      "Exposing 1.2 s...MAX COUNTS: 40431\n",
      "Done\n",
      "Saved to C://Users//PSM-0//Desktop//HPF_FRD/20170807_test_puck_A_200micron_hene/f03/\\f_psm_10_d_02.fits\n",
      "##########################################\n",
      "PERCENT=: 4\n",
      "mAbs  30.0 c_float(30.0)\n",
      "mAbs SUCESS\n",
      "38 STAGE AT= 30.0 mm\n",
      "Exposing 1.2 s...MAX COUNTS: 37319\n",
      "Done\n",
      "Saved to C://Users//PSM-0//Desktop//HPF_FRD/20170807_test_puck_A_200micron_hene/f03/\\f_psm_10_d_03.fits\n",
      "##########################################\n",
      "PERCENT=: 4\n",
      "mAbs  29.0 c_float(29.0)\n",
      "mAbs SUCESS\n",
      "39 STAGE AT= 29.0 mm\n",
      "Exposing 1.2 s...MAX COUNTS: 34316\n",
      "Done\n",
      "Saved to C://Users//PSM-0//Desktop//HPF_FRD/20170807_test_puck_A_200micron_hene/f03/\\f_psm_10_d_04.fits\n",
      "##########################################\n",
      "PERCENT=: 3\n",
      "mAbs  32.0 c_float(32.0)\n",
      "mAbs SUCESS\n",
      "40 STAGE AT= 32.0 mm\n",
      "Exposing 1.2 s...MAX COUNTS: 38633\n",
      "Done\n",
      "Saved to C://Users//PSM-0//Desktop//HPF_FRD/20170807_test_puck_A_200micron_hene/f03/\\f_psm_11_d_01.fits\n",
      "##########################################\n",
      "PERCENT=: 3\n",
      "mAbs  31.0 c_float(31.0)\n",
      "mAbs SUCESS\n",
      "41 STAGE AT= 31.0 mm\n",
      "Exposing 1.26 s...MAX COUNTS: 37414\n",
      "Done\n",
      "Saved to C://Users//PSM-0//Desktop//HPF_FRD/20170807_test_puck_A_200micron_hene/f03/\\f_psm_11_d_02.fits\n",
      "##########################################\n",
      "PERCENT=: 3\n",
      "mAbs  30.0 c_float(30.0)\n",
      "mAbs SUCESS\n",
      "42 STAGE AT= 30.0 mm\n",
      "Exposing 1.26 s...MAX COUNTS: 34209\n",
      "Done\n",
      "Saved to C://Users//PSM-0//Desktop//HPF_FRD/20170807_test_puck_A_200micron_hene/f03/\\f_psm_11_d_03.fits\n",
      "##########################################\n",
      "PERCENT=: 3\n",
      "mAbs  29.0 c_float(29.0)\n",
      "mAbs SUCESS\n",
      "43 STAGE AT= 29.0 mm\n",
      "Exposing 1.32 s...MAX COUNTS: 33129\n",
      "Done\n",
      "Saved to C://Users//PSM-0//Desktop//HPF_FRD/20170807_test_puck_A_200micron_hene/f03/\\f_psm_11_d_04.fits\n",
      "##########################################\n",
      "PERCENT=: 2\n",
      "mAbs  32.0 c_float(32.0)\n",
      "mAbs SUCESS\n",
      "44 STAGE AT= 32.0 mm\n",
      "Exposing 1.38 s...MAX COUNTS: 37358\n",
      "Done\n",
      "Saved to C://Users//PSM-0//Desktop//HPF_FRD/20170807_test_puck_A_200micron_hene/f03/\\f_psm_12_d_01.fits\n",
      "##########################################\n",
      "PERCENT=: 2\n",
      "mAbs  31.0 c_float(31.0)\n",
      "mAbs SUCESS\n",
      "45 STAGE AT= 31.0 mm\n",
      "Exposing 1.44 s...MAX COUNTS: 35545\n",
      "Done\n",
      "Saved to C://Users//PSM-0//Desktop//HPF_FRD/20170807_test_puck_A_200micron_hene/f03/\\f_psm_12_d_02.fits\n",
      "##########################################\n",
      "PERCENT=: 2\n",
      "mAbs  30.0 c_float(30.0)\n",
      "mAbs SUCESS\n",
      "46 STAGE AT= 30.0 mm\n",
      "Exposing 1.5 s...MAX COUNTS: 34368\n",
      "Done\n",
      "Saved to C://Users//PSM-0//Desktop//HPF_FRD/20170807_test_puck_A_200micron_hene/f03/\\f_psm_12_d_03.fits\n",
      "##########################################\n",
      "PERCENT=: 2\n",
      "mAbs  29.0 c_float(29.0)\n",
      "mAbs SUCESS\n",
      "47 STAGE AT= 29.0 mm\n",
      "Exposing 1.5 s...MAX COUNTS: 31624\n",
      "Done\n",
      "Saved to C://Users//PSM-0//Desktop//HPF_FRD/20170807_test_puck_A_200micron_hene/f03/\\f_psm_12_d_04.fits\n"
     ]
    }
   ],
   "source": [
    "FRD.run_sequence(overwrite=False)"
   ]
  },
  {
   "cell_type": "code",
   "execution_count": 6,
   "metadata": {},
   "outputs": [
    {
     "name": "stdout",
     "output_type": "stream",
     "text": [
      "Exposing 1 s...Done\n"
     ]
    }
   ],
   "source": [
    "FRD.C.expose(1)"
   ]
  },
  {
   "cell_type": "code",
   "execution_count": 3,
   "metadata": {},
   "outputs": [
    {
     "name": "stdout",
     "output_type": "stream",
     "text": [
      "Serial is 83829712\n",
      "initializeHardwareDevice serial c_long(83829712)\n",
      "initializeHardwareDevice connection SUCESS\n"
     ]
    }
   ],
   "source": [
    "S = ControlStage()"
   ]
  },
  {
   "cell_type": "code",
   "execution_count": 7,
   "metadata": {},
   "outputs": [
    {
     "name": "stdout",
     "output_type": "stream",
     "text": [
      "Going home\n",
      "go_home SUCESS\n"
     ]
    }
   ],
   "source": [
    "FRD.S.go_home()"
   ]
  },
  {
   "cell_type": "code",
   "execution_count": 45,
   "metadata": {},
   "outputs": [
    {
     "data": {
      "text/plain": [
       "<module 'controlfli' from 'controlfli.py'>"
      ]
     },
     "execution_count": 45,
     "metadata": {},
     "output_type": "execute_result"
    }
   ],
   "source": [
    "import controlfli\n",
    "reload(controlfli)"
   ]
  },
  {
   "cell_type": "code",
   "execution_count": 46,
   "metadata": {
    "collapsed": true
   },
   "outputs": [],
   "source": [
    "CC = controlfli.ControlFLI(savefolder=\"C:\\\\Users\\\\PSM-0\\\\Desktop\\\\HPF_FRD\\\\20170801_testing_sequence\\\\f01\")"
   ]
  },
  {
   "cell_type": "code",
   "execution_count": 49,
   "metadata": {},
   "outputs": [
    {
     "name": "stdout",
     "output_type": "stream",
     "text": [
      "Exposing 1.0 s...Done\n",
      "Saved to C:\\Users\\PSM-0\\Desktop\\HPF_FRD\\20170801_testing_sequence\\f01\\test_exp2.fits\n"
     ]
    }
   ],
   "source": [
    "CC.expose(1.)\n",
    "CC.save(\"test_exp2.fits\",overwrite=True)"
   ]
  },
  {
   "cell_type": "code",
   "execution_count": 8,
   "metadata": {
    "collapsed": true
   },
   "outputs": [],
   "source": [
    "import iris"
   ]
  },
  {
   "cell_type": "code",
   "execution_count": 15,
   "metadata": {},
   "outputs": [
    {
     "name": "stdout",
     "output_type": "stream",
     "text": [
      "Connection established\n"
     ]
    }
   ],
   "source": [
    "ir = iris.ControlIris(device='COM8')\n",
    "ir.connect()"
   ]
  },
  {
   "cell_type": "code",
   "execution_count": 21,
   "metadata": {
    "collapsed": true
   },
   "outputs": [],
   "source": [
    "ir.set_percent(12)\n",
    "ir.ser.close()"
   ]
  },
  {
   "cell_type": "code",
   "execution_count": 13,
   "metadata": {},
   "outputs": [
    {
     "name": "stdout",
     "output_type": "stream",
     "text": [
      "COM3                \r\n",
      "COM7                \r\n",
      "COM8                \r\n",
      "COM10               \r\n",
      "\n"
     ]
    }
   ],
   "source": [
    "ir.list_ports()"
   ]
  },
  {
   "cell_type": "code",
   "execution_count": 38,
   "metadata": {},
   "outputs": [
    {
     "name": "stdout",
     "output_type": "stream",
     "text": [
      " Volume in drive C is OS\n",
      " Volume Serial Number is 2610-8FFD\n",
      "\n",
      " Directory of C:\\Users\\PSM-0\\Desktop\\PYTHON\\HPF_FRD\n",
      "\n",
      "08/01/2017  11:34 AM    <DIR>          .\n",
      "08/01/2017  11:34 AM    <DIR>          ..\n",
      "08/01/2017  09:57 AM    <DIR>          .ipynb_checkpoints\n",
      "07/27/2017  07:02 PM           192,768 APT.dll\n",
      "07/31/2017  09:03 PM             6,195 Automating Iris and Stage.ipynb\n",
      "08/01/2017  11:34 AM             1,529 controlfli.py\n",
      "08/01/2017  11:34 AM             2,169 controlfli.pyc\n",
      "08/01/2017  11:34 AM            23,779 Controlling Iris, FLI, stage.ipynb\n",
      "07/27/2017  10:17 PM             3,286 Controlling Iris.ipynb\n",
      "07/27/2017  11:08 PM               899 controlstage.py\n",
      "08/01/2017  09:59 AM             1,751 controlstage.pyc\n",
      "07/27/2017  10:16 PM             1,038 iris.py\n",
      "07/27/2017  10:16 PM             1,446 iris.pyc\n",
      "07/27/2017  07:02 PM            12,801 PyAPT.py\n",
      "07/27/2017  10:47 PM            11,710 PyAPT.pyc\n",
      "07/31/2017  08:25 PM             1,803 sequence.csv\n",
      "07/27/2017  10:44 PM                95 stage.pyc\n",
      "08/01/2017  11:34 AM         2,174,400 test_exp.fits\n",
      "              15 File(s)      2,435,669 bytes\n",
      "               3 Dir(s)  238,472,482,816 bytes free\n"
     ]
    }
   ],
   "source": [
    "!dir"
   ]
  },
  {
   "cell_type": "code",
   "execution_count": null,
   "metadata": {
    "collapsed": true
   },
   "outputs": [],
   "source": []
  }
 ],
 "metadata": {
  "kernelspec": {
   "display_name": "Python 2",
   "language": "python",
   "name": "python2"
  },
  "language_info": {
   "codemirror_mode": {
    "name": "ipython",
    "version": 2
   },
   "file_extension": ".py",
   "mimetype": "text/x-python",
   "name": "python",
   "nbconvert_exporter": "python",
   "pygments_lexer": "ipython2",
   "version": "2.7.13"
  }
 },
 "nbformat": 4,
 "nbformat_minor": 2
}
