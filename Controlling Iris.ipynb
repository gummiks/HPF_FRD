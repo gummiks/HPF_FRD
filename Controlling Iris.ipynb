{
 "cells": [
  {
   "cell_type": "code",
   "execution_count": 21,
   "metadata": {},
   "outputs": [],
   "source": [
    "import numpy as np\n",
    "import time\n",
    "import serial\n",
    "import subprocess\n",
    "\n",
    "class ControlIris(object):\n",
    "    \n",
    "    def __init__(self,device='COM10'):\n",
    "        # device = '/dev/tty.usbserial-AI02GT45'\n",
    "        self.device = device\n",
    "        \n",
    "    def connect(self):\n",
    "        \"\"\"\n",
    "        Connect to iris\n",
    "        \"\"\"\n",
    "        self.ser    = serial.Serial(port=self.device,  \n",
    "                            baudrate=9600,\n",
    "                            parity=serial.PARITY_NONE,\n",
    "                            stopbits=serial.STOPBITS_ONE,\n",
    "                            bytesize=serial.EIGHTBITS)\n",
    "        if self.ser.isOpen():    \n",
    "            print('Connection established')\n",
    "        else: \n",
    "            print('Connection could not be established')\n",
    "            \n",
    "    def set_percent(self,percent):\n",
    "        \"\"\"\n",
    "        Set percent value\n",
    "        \"\"\"\n",
    "        self.percent = percent\n",
    "        sendcommand = '%OPEN '+str(percent)+'.00\\n'\n",
    "        self.ser.write(sendcommand)\n",
    "        \n",
    "    def list_ports(self):\n",
    "        print(subprocess.check_output(\"python -m serial.tools.list_ports\"))\n"
   ]
  },
  {
   "cell_type": "code",
   "execution_count": 35,
   "metadata": {},
   "outputs": [
    {
     "name": "stdout",
     "output_type": "stream",
     "text": [
      "COM3                \r\n",
      "COM7                \r\n",
      "COM8                \r\n",
      "COM10               \r\n",
      "\n"
     ]
    }
   ],
   "source": [
    "#p.communicate()"
   ]
  },
  {
   "cell_type": "code",
   "execution_count": 23,
   "metadata": {},
   "outputs": [
    {
     "name": "stdout",
     "output_type": "stream",
     "text": [
      "Connection established\n"
     ]
    }
   ],
   "source": [
    "iris = ControlIris()\n",
    "iris.connect()\n",
    "iris.set_percent(10)"
   ]
  },
  {
   "cell_type": "code",
   "execution_count": 12,
   "metadata": {},
   "outputs": [
    {
     "name": "stdout",
     "output_type": "stream",
     "text": [
      "COM3                \n",
      "COM7                \n",
      "COM8                \n",
      "COM10               \n"
     ]
    },
    {
     "name": "stderr",
     "output_type": "stream",
     "text": [
      "4 ports found\n"
     ]
    }
   ],
   "source": [
    "# List the available ports\n",
    "!python -m serial.tools.list_ports"
   ]
  },
  {
   "cell_type": "code",
   "execution_count": null,
   "metadata": {
    "collapsed": true
   },
   "outputs": [],
   "source": []
  }
 ],
 "metadata": {
  "kernelspec": {
   "display_name": "Python 2",
   "language": "python",
   "name": "python2"
  },
  "language_info": {
   "codemirror_mode": {
    "name": "ipython",
    "version": 2
   },
   "file_extension": ".py",
   "mimetype": "text/x-python",
   "name": "python",
   "nbconvert_exporter": "python",
   "pygments_lexer": "ipython2",
   "version": "2.7.13"
  }
 },
 "nbformat": 4,
 "nbformat_minor": 2
}
