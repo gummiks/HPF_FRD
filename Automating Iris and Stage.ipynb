{
 "cells": [
  {
   "cell_type": "code",
   "execution_count": 1,
   "metadata": {
    "collapsed": true
   },
   "outputs": [],
   "source": [
    "import numpy as np\n",
    "import pandas as pd\n",
    "import matplotlib.pyplot as plt\n",
    "import iris\n",
    "#reload(iris)"
   ]
  },
  {
   "cell_type": "code",
   "execution_count": 6,
   "metadata": {},
   "outputs": [],
   "source": [
    "import numpy as np\n",
    "import pandas as pd\n",
    "from PyAPT import APTMotor\n",
    "\n",
    "class ControlStage(object):\n",
    "    \n",
    "    def __init__(self):\n",
    "        self.M = APTMotor(83829712,HWTYPE=31,verbose=True)\n",
    "        self.df = pd.read_csv('sequence.csv')\n",
    "        self.x = self.df.x_out_fiber_dist.values\n",
    "        \n",
    "    def go_home(self):\n",
    "        self.M.go_home()\n",
    "    \n",
    "    def go_to_32(self):\n",
    "        # Move absolute\n",
    "        self.M.mAbs(32.)\n",
    "        \n",
    "    def go_to(self,value):\n",
    "        self.M.mAbs(value)\n",
    "    \n",
    "    def exit(self):\n",
    "        self.M.cleanUpAPT()\n",
    "\n",
    "    def run_sequence(self):\n",
    "        print(\"Running sequence\")\n",
    "        for i, x in enumerate(self.x):\n",
    "            self.go_to(x)\n",
    "            print(\"##########################################\")\n",
    "            print(i,\"Now at\",x,\"mm\")\n",
    "            input_val = raw_input(\"Press Enter to continue. Press q to stop\")\n",
    "            if input_val == \"q\":\n",
    "                break"
   ]
  },
  {
   "cell_type": "code",
   "execution_count": 3,
   "metadata": {},
   "outputs": [
    {
     "name": "stdout",
     "output_type": "stream",
     "text": [
      "Serial is 83829712\n",
      "initializeHardwareDevice serial c_long(83829712)\n",
      "initializeHardwareDevice connection SUCESS\n"
     ]
    }
   ],
   "source": [
    "S = ControlStage()"
   ]
  },
  {
   "cell_type": "code",
   "execution_count": null,
   "metadata": {},
   "outputs": [
    {
     "name": "stdout",
     "output_type": "stream",
     "text": [
      "getPos probing...\n"
     ]
    }
   ],
   "source": [
    "S.M.getPos()"
   ]
  },
  {
   "cell_type": "code",
   "execution_count": 4,
   "metadata": {},
   "outputs": [
    {
     "name": "stdout",
     "output_type": "stream",
     "text": [
      "Going home\n",
      "go_home SUCESS\n"
     ]
    }
   ],
   "source": [
    "S.go_home()"
   ]
  },
  {
   "cell_type": "code",
   "execution_count": null,
   "metadata": {
    "scrolled": false
   },
   "outputs": [
    {
     "name": "stdout",
     "output_type": "stream",
     "text": [
      "Running sequence\n",
      "mAbs  32.0 c_float(32.0)\n",
      "mAbs SUCESS\n",
      "##########################################\n",
      "(0, 'Now at', 32.0, 'mm')\n",
      "Press Enter to continue. Press q to stop\n",
      "mAbs  31.0 c_float(31.0)\n",
      "mAbs SUCESS\n",
      "##########################################\n",
      "(1, 'Now at', 31.0, 'mm')\n",
      "Press Enter to continue. Press q to stop\n",
      "mAbs  30.0 c_float(30.0)\n",
      "mAbs SUCESS\n",
      "##########################################\n",
      "(2, 'Now at', 30.0, 'mm')\n",
      "Press Enter to continue. Press q to stop\n",
      "mAbs  29.0 c_float(29.0)\n",
      "mAbs SUCESS\n",
      "##########################################\n",
      "(3, 'Now at', 29.0, 'mm')\n",
      "Press Enter to continue. Press q to stop\n",
      "mAbs  32.0 c_float(32.0)\n",
      "mAbs SUCESS\n",
      "##########################################\n",
      "(4, 'Now at', 32.0, 'mm')\n",
      "Press Enter to continue. Press q to stop\n",
      "mAbs  31.0 c_float(31.0)\n",
      "mAbs SUCESS\n",
      "##########################################\n",
      "(5, 'Now at', 31.0, 'mm')\n",
      "Press Enter to continue. Press q to stop\n",
      "mAbs  30.0 c_float(30.0)\n",
      "mAbs SUCESS\n",
      "##########################################\n",
      "(6, 'Now at', 30.0, 'mm')\n",
      "Press Enter to continue. Press q to stop\n",
      "mAbs  29.0 c_float(29.0)\n",
      "mAbs SUCESS\n",
      "##########################################\n",
      "(7, 'Now at', 29.0, 'mm')\n"
     ]
    }
   ],
   "source": [
    "S.run_sequence()\n"
   ]
  },
  {
   "cell_type": "code",
   "execution_count": 10,
   "metadata": {},
   "outputs": [
    {
     "name": "stdout",
     "output_type": "stream",
     "text": [
      "mAbs  32 c_float(32.0)\n",
      "mAbs SUCESS\n"
     ]
    }
   ],
   "source": [
    "S.go_to(32)"
   ]
  },
  {
   "cell_type": "code",
   "execution_count": null,
   "metadata": {
    "collapsed": true
   },
   "outputs": [],
   "source": []
  },
  {
   "cell_type": "code",
   "execution_count": 5,
   "metadata": {},
   "outputs": [
    {
     "name": "stdout",
     "output_type": "stream",
     "text": [
      "Connection established\n"
     ]
    }
   ],
   "source": [
    "ir = iris.ControlIris(device='COM7')\n",
    "ir.connect()"
   ]
  },
  {
   "cell_type": "code",
   "execution_count": 6,
   "metadata": {},
   "outputs": [
    {
     "name": "stdout",
     "output_type": "stream",
     "text": [
      "COM3                \r\n",
      "COM7                \r\n",
      "COM8                \r\n",
      "COM10               \r\n",
      "\n"
     ]
    }
   ],
   "source": [
    "ir.list_ports()"
   ]
  },
  {
   "cell_type": "code",
   "execution_count": null,
   "metadata": {
    "collapsed": true
   },
   "outputs": [],
   "source": [
    "ir.set_percent(20)"
   ]
  },
  {
   "cell_type": "code",
   "execution_count": null,
   "metadata": {
    "collapsed": true
   },
   "outputs": [],
   "source": []
  }
 ],
 "metadata": {
  "kernelspec": {
   "display_name": "Python 2",
   "language": "python",
   "name": "python2"
  },
  "language_info": {
   "codemirror_mode": {
    "name": "ipython",
    "version": 2
   },
   "file_extension": ".py",
   "mimetype": "text/x-python",
   "name": "python",
   "nbconvert_exporter": "python",
   "pygments_lexer": "ipython2",
   "version": "2.7.13"
  }
 },
 "nbformat": 4,
 "nbformat_minor": 2
}
